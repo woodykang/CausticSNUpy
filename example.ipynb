{
 "cells": [
  {
   "cell_type": "markdown",
   "metadata": {},
   "source": [
    "# Example of CausticSNUpy usage"
   ]
  },
  {
   "cell_type": "markdown",
   "metadata": {},
   "source": [
    "## 1. Import packages."
   ]
  },
  {
   "cell_type": "code",
   "execution_count": null,
   "metadata": {},
   "outputs": [],
   "source": [
    "import numpy as np\n",
    "import matplotlib.pyplot as plt\n",
    "from CausticSNUpy import caustics"
   ]
  },
  {
   "cell_type": "markdown",
   "metadata": {},
   "source": [
    "## 2. Set parameters."
   ]
  },
  {
   "cell_type": "code",
   "execution_count": null,
   "metadata": {},
   "outputs": [],
   "source": [
    "fpath = ''                                      # your directory to the file\n",
    "\n",
    "v_lower = 8000                                  # lower bound of velocity that real members should have (km/s)\n",
    "v_upper = 17000                                 # upper bound of velocity that real members should have (km/s)\n",
    "r_max = 10                                      # maximum projected distance from the center (Mpc)\n",
    "\n",
    "H0 = 100\n",
    "Om0 = 0.3\n",
    "Ode0 = 0.7\n",
    "Tcmb0 = 2.7\n",
    "\n",
    "q = 25\n",
    "r_res = 100                                     # resolution of r_grid\n",
    "v_res = 100                                     # resolution of v_grid\n",
    "BT_thr = \"ALS\"                                  # Binary Tree threshold"
   ]
  },
  {
   "cell_type": "markdown",
   "metadata": {},
   "source": [
    "## 3. Create an instance of caustics with parameters and run the caustic technique."
   ]
  },
  {
   "cell_type": "code",
   "execution_count": null,
   "metadata": {},
   "outputs": [],
   "source": [
    "C = caustics(fpath, v_lower, v_upper, r_max, center_given=True, H0=H0, Om0=Om0, Ode0=Ode0, Tcmb0=Tcmb0, q=q, r_res=r_res, v_res=v_res)\n",
    "C.run()"
   ]
  },
  {
   "cell_type": "markdown",
   "metadata": {},
   "source": [
    "## 4. Draw the redshift diagram"
   ]
  },
  {
   "cell_type": "code",
   "execution_count": null,
   "metadata": {},
   "outputs": [],
   "source": [
    "r_grid = C.r_grid\n",
    "A = C.A\n",
    "\n",
    "r = C.r\n",
    "v = C.v\n",
    "member = C.member\n",
    "\n",
    "plt.plot(r_grid,  A, c = 'r')\n",
    "plt.plot(r_grid, -A, c = 'r')\n",
    "plt.scatter(r, v, c=member, cmap='coolwarm')\n",
    "\n",
    "plt.title('Redshift Diagram')\n",
    "plt.xlabel('Projected Distance (Mpc/h)')\n",
    "plt.ylabel('$(v_{gal}-v_{cl})/(1+z_{cl})$ (km/s')\n",
    "\n",
    "plt.show()"
   ]
  },
  {
   "cell_type": "markdown",
   "metadata": {},
   "source": [
    "## 5. Add a 4th column to the original data indicating the membership.\n",
    "### File is saved to `fpath` + `.member.txt`"
   ]
  },
  {
   "cell_type": "code",
   "execution_count": null,
   "metadata": {},
   "outputs": [],
   "source": [
    "C.create_member_list()"
   ]
  }
 ],
 "metadata": {
  "language_info": {
   "name": "python"
  },
  "orig_nbformat": 4
 },
 "nbformat": 4,
 "nbformat_minor": 2
}
